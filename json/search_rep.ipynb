{
 "cells": [
  {
   "cell_type": "code",
   "execution_count": 7,
   "id": "765f786f-a33a-40b2-9e11-17f2a91bdbcb",
   "metadata": {},
   "outputs": [
    {
     "name": "stdout",
     "output_type": "stream",
     "text": [
      "***********************START DEPARTURE ****************\n",
      "[{'airport': 'LHR', 'city': 'LON', 'country': 'GB', 'time': '15:35:00Z', 'terminal': '3'}, {'airport': 'LHR', 'city': 'LON', 'country': 'GB', 'time': '10:10:00Z', 'terminal': '3'}, {'airport': 'JFK', 'city': 'NYC', 'state': 'NY', 'country': 'US', 'time': '20:15:00-05:00', 'terminal': '8'}, {'airport': 'JFK', 'city': 'NYC', 'state': 'NY', 'country': 'US', 'time': '22:40:00-05:00', 'terminal': '4'}, {'airport': 'LHR', 'city': 'LON', 'country': 'GB', 'time': '10:10:00Z', 'terminal': '3'}, {'airport': 'LHR', 'city': 'LON', 'country': 'GB', 'time': '17:55:00Z', 'terminal': '3'}, {'airport': 'LHR', 'city': 'LON', 'country': 'GB', 'time': '15:30:00Z', 'terminal': '3'}, {'airport': 'BOS', 'city': 'BOS', 'state': 'MA', 'country': 'US', 'time': '19:40:00-05:00', 'terminal': 'C'}, {'airport': 'JFK', 'city': 'NYC', 'state': 'NY', 'country': 'US', 'time': '23:00:00-05:00', 'terminal': '4'}, {'airport': 'LHR', 'city': 'LON', 'country': 'GB', 'time': '17:05:00Z', 'terminal': '3'}, {'airport': 'JFK', 'city': 'NYC', 'state': 'NY', 'country': 'US', 'time': '22:20:00-05:00', 'terminal': '4'}, {'airport': 'JFK', 'city': 'NYC', 'state': 'NY', 'country': 'US', 'time': '22:40:00-05:00', 'terminal': '4'}, {'airport': 'JFK', 'city': 'NYC', 'state': 'NY', 'country': 'US', 'time': '19:33:00-05:00', 'terminal': '5'}, {'airport': 'LHR', 'city': 'LON', 'country': 'GB', 'time': '15:30:00Z', 'terminal': '3'}, {'airport': 'JFK', 'city': 'NYC', 'state': 'NY', 'country': 'US', 'time': '19:01:00-05:00', 'terminal': '4'}, {'airport': 'LHR', 'city': 'LON', 'country': 'GB', 'time': '18:00:00Z', 'terminal': '5'}, {'airport': 'LHR', 'city': 'LON', 'country': 'GB', 'time': '10:10:00Z', 'terminal': '3'}, {'airport': 'LHR', 'city': 'LON', 'country': 'GB', 'time': '07:25:00Z', 'terminal': '2'}, {'airport': 'BOS', 'city': 'BOS', 'state': 'MA', 'country': 'US', 'time': '16:09:00-05:00', 'terminal': 'C'}, {'airport': 'JFK', 'city': 'NYC', 'state': 'NY', 'country': 'US', 'time': '08:05:00-05:00', 'terminal': '8'}, {'airport': 'JFK', 'city': 'NYC', 'state': 'NY', 'country': 'US', 'time': '18:30:00-05:00', 'terminal': '4'}, {'airport': 'JFK', 'city': 'NYC', 'state': 'NY', 'country': 'US', 'time': '18:30:00-05:00', 'terminal': '4'}, {'airport': 'JFK', 'city': 'NYC', 'state': 'NY', 'country': 'US', 'time': '18:30:00-05:00', 'terminal': '4'}, {'airport': 'JFK', 'city': 'NYC', 'state': 'NY', 'country': 'US', 'time': '23:00:00-05:00', 'terminal': '4'}, {'airport': 'LHR', 'city': 'LON', 'country': 'GB', 'time': '16:20:00Z', 'terminal': '5'}, {'airport': 'JFK', 'city': 'NYC', 'state': 'NY', 'country': 'US', 'time': '13:40:00-05:00', 'terminal': '5'}, {'airport': 'JFK', 'city': 'NYC', 'state': 'NY', 'country': 'US', 'time': '20:05:00-05:00', 'terminal': '8'}, {'airport': 'JFK', 'city': 'NYC', 'state': 'NY', 'country': 'US', 'time': '20:55:00-05:00', 'terminal': '8'}, {'airport': 'LHR', 'city': 'LON', 'country': 'GB', 'time': '12:55:00Z', 'terminal': '5'}, {'airport': 'JFK', 'city': 'NYC', 'state': 'NY', 'country': 'US', 'time': '21:35:00-05:00', 'terminal': '8'}, {'airport': 'LHR', 'city': 'LON', 'country': 'GB', 'time': '17:55:00Z', 'terminal': '3'}, {'airport': 'LHR', 'city': 'LON', 'country': 'GB', 'time': '20:25:00Z', 'terminal': '3'}, {'airport': 'BOS', 'city': 'BOS', 'state': 'MA', 'country': 'US', 'time': '20:35:00-05:00', 'terminal': 'C'}, {'airport': 'BOS', 'city': 'BOS', 'state': 'MA', 'country': 'US', 'time': '19:22:00-05:00', 'terminal': 'C'}, {'airport': 'JFK', 'city': 'NYC', 'state': 'NY', 'country': 'US', 'time': '22:20:00-05:00', 'terminal': '4'}, {'airport': 'LHR', 'city': 'LON', 'country': 'GB', 'time': '16:00:00Z', 'terminal': '3'}, {'airport': 'JFK', 'city': 'NYC', 'state': 'NY', 'country': 'US', 'time': '22:40:00-05:00', 'terminal': '4'}, {'airport': 'JFK', 'city': 'NYC', 'state': 'NY', 'country': 'US', 'time': '23:00:00-05:00', 'terminal': '4'}, {'airport': 'JFK', 'city': 'NYC', 'state': 'NY', 'country': 'US', 'time': '06:00:00-05:00', 'terminal': '5'}, {'airport': 'JFK', 'city': 'NYC', 'state': 'NY', 'country': 'US', 'time': '18:56:00-05:00', 'terminal': '8'}, {'airport': 'LHR', 'city': 'LON', 'country': 'GB', 'time': '16:00:00Z', 'terminal': '3'}, {'airport': 'JFK', 'city': 'NYC', 'state': 'NY', 'country': 'US', 'time': '10:11:00-05:00', 'terminal': '8'}, {'airport': 'JFK', 'city': 'NYC', 'state': 'NY', 'country': 'US', 'time': '23:00:00-05:00', 'terminal': '4'}, {'airport': 'JFK', 'city': 'NYC', 'state': 'NY', 'country': 'US', 'time': '08:05:00-05:00', 'terminal': '4'}, {'airport': 'JFK', 'city': 'NYC', 'state': 'NY', 'country': 'US', 'time': '22:26:00-05:00', 'terminal': '8'}, {'airport': 'JFK', 'city': 'NYC', 'state': 'NY', 'country': 'US', 'time': '19:01:00-05:00', 'terminal': '4'}, {'airport': 'LHR', 'city': 'LON', 'country': 'GB', 'time': '19:00:00Z', 'terminal': '5'}, {'airport': 'JFK', 'city': 'NYC', 'state': 'NY', 'country': 'US', 'time': '08:05:00-05:00', 'terminal': '4'}, {'airport': 'LHR', 'city': 'LON', 'country': 'GB', 'time': '19:50:00Z', 'terminal': '3'}, {'airport': 'LHR', 'city': 'LON', 'country': 'GB', 'time': '14:00:00Z', 'terminal': '5'}, {'airport': 'JFK', 'city': 'NYC', 'state': 'NY', 'country': 'US', 'time': '18:30:00-05:00', 'terminal': '4'}, {'airport': 'JFK', 'city': 'NYC', 'state': 'NY', 'country': 'US', 'time': '08:05:00-05:00', 'terminal': '4'}, {'airport': 'LHR', 'city': 'LON', 'country': 'GB', 'time': '09:35:00Z', 'terminal': '5'}, {'airport': 'LHR', 'city': 'LON', 'country': 'GB', 'time': '17:55:00Z', 'terminal': '3'}, {'airport': 'LHR', 'city': 'LON', 'country': 'GB', 'time': '17:55:00Z', 'terminal': '3'}, {'airport': 'LHR', 'city': 'LON', 'country': 'GB', 'time': '16:00:00Z', 'terminal': '3'}, {'airport': 'LHR', 'city': 'LON', 'country': 'GB', 'time': '08:25:00Z', 'terminal': '2'}, {'airport': 'JFK', 'city': 'NYC', 'state': 'NY', 'country': 'US', 'time': '09:00:00-05:00', 'terminal': '5'}, {'airport': 'LGW', 'city': 'LON', 'country': 'GB', 'time': '11:55:00Z', 'terminal': 'N'}, {'airport': 'JFK', 'city': 'NYC', 'state': 'NY', 'country': 'US', 'time': '20:31:00-05:00', 'terminal': '8'}, {'airport': 'JFK', 'city': 'NYC', 'state': 'NY', 'country': 'US', 'time': '22:20:00-05:00', 'terminal': '4'}, {'airport': 'JFK', 'city': 'NYC', 'state': 'NY', 'country': 'US', 'time': '19:01:00-05:00', 'terminal': '4'}, {'airport': 'LGW', 'city': 'LON', 'country': 'GB', 'time': '15:00:00Z', 'terminal': 'S'}, {'airport': 'JFK', 'city': 'NYC', 'state': 'NY', 'country': 'US', 'time': '20:30:00-05:00', 'terminal': '4'}, {'airport': 'JFK', 'city': 'NYC', 'state': 'NY', 'country': 'US', 'time': '23:25:00-05:00', 'terminal': '8'}, {'airport': 'JFK', 'city': 'NYC', 'state': 'NY', 'country': 'US', 'time': '22:40:00-05:00', 'terminal': '4'}]\n",
      "***********************END DEPARTURE ****************\n",
      "***********************START CARRIEERS ****************\n",
      "[{'marketing': 'AA', 'marketingFlightNumber': 105, 'operating': 'AA', 'operatingFlightNumber': 105, 'alliances': 'OW ', 'equipment': {'code': '77W', 'typeForFirstLeg': 'W', 'typeForLastLeg': 'W'}}, {'marketing': 'VS', 'marketingFlightNumber': 4007, 'operating': 'DL', 'operatingFlightNumber': 2, 'disclosure': 'DL', 'equipment': {'code': '764', 'typeForFirstLeg': 'W', 'typeForLastLeg': 'W'}}, {'marketing': 'BA', 'marketingFlightNumber': 2272, 'operating': 'BA', 'operatingFlightNumber': 2272, 'alliances': 'OW ', 'equipment': {'code': '777', 'typeForFirstLeg': 'W', 'typeForLastLeg': 'W'}}, {'marketing': 'VS', 'marketingFlightNumber': 154, 'operating': 'VS', 'operatingFlightNumber': 154, 'equipment': {'code': '339', 'typeForFirstLeg': 'W', 'typeForLastLeg': 'W'}}, {'marketing': 'DL', 'marketingFlightNumber': 2, 'operating': 'DL', 'operatingFlightNumber': 2, 'equipment': {'code': '764', 'typeForFirstLeg': 'W', 'typeForLastLeg': 'W'}}, {'marketing': 'AF', 'marketingFlightNumber': 6758, 'operating': 'VS', 'operatingFlightNumber': 9, 'disclosure': 'VS', 'alliances': '*S ', 'equipment': {'code': '351', 'typeForFirstLeg': 'W', 'typeForLastLeg': 'W'}}, {'marketing': 'AF', 'marketingFlightNumber': 9916, 'operating': 'VS', 'operatingFlightNumber': 137, 'disclosure': 'VS', 'alliances': '*S ', 'equipment': {'code': '351', 'typeForFirstLeg': 'W', 'typeForLastLeg': 'W'}}, {'marketing': 'B6', 'marketingFlightNumber': 317, 'operating': 'B6', 'operatingFlightNumber': 317, 'equipment': {'code': 'E90', 'typeForFirstLeg': 'N', 'typeForLastLeg': 'N'}}, {'marketing': 'DL', 'marketingFlightNumber': 5990, 'operating': 'VS', 'operatingFlightNumber': 10, 'disclosure': 'VS', 'equipment': {'code': '351', 'typeForFirstLeg': 'W', 'typeForLastLeg': 'W'}}, {'marketing': 'AA', 'marketingFlightNumber': 107, 'operating': 'AA', 'operatingFlightNumber': 107, 'alliances': 'OW ', 'equipment': {'code': '77W', 'typeForFirstLeg': 'W', 'typeForLastLeg': 'W'}}, {'marketing': 'VS', 'marketingFlightNumber': 4030, 'operating': 'DL', 'operatingFlightNumber': 3, 'disclosure': 'DL', 'equipment': {'code': '764', 'typeForFirstLeg': 'W', 'typeForLastLeg': 'W'}}, {'marketing': 'DL', 'marketingFlightNumber': 5923, 'operating': 'VS', 'operatingFlightNumber': 154, 'disclosure': 'VS', 'equipment': {'code': '339', 'typeForFirstLeg': 'W', 'typeForLastLeg': 'W'}}, {'marketing': 'B6', 'marketingFlightNumber': 43, 'operating': 'B6', 'operatingFlightNumber': 43, 'equipment': {'code': '32Q', 'typeForFirstLeg': 'N', 'typeForLastLeg': 'N'}}, {'marketing': 'VS', 'marketingFlightNumber': 137, 'operating': 'VS', 'operatingFlightNumber': 137, 'equipment': {'code': '351', 'typeForFirstLeg': 'W', 'typeForLastLeg': 'W'}}, {'marketing': 'DL', 'marketingFlightNumber': 5992, 'operating': 'VS', 'operatingFlightNumber': 46, 'disclosure': 'VS', 'equipment': {'code': '351', 'typeForFirstLeg': 'W', 'typeForLastLeg': 'W'}}, {'marketing': 'BA', 'marketingFlightNumber': 179, 'operating': 'BA', 'operatingFlightNumber': 179, 'alliances': 'OW ', 'equipment': {'code': '77W', 'typeForFirstLeg': 'W', 'typeForLastLeg': 'W'}}, {'marketing': 'AF', 'marketingFlightNumber': 3666, 'operating': 'DL', 'operatingFlightNumber': 2, 'disclosure': 'DL', 'alliances': '*S ', 'equipment': {'code': '764', 'typeForFirstLeg': 'W', 'typeForLastLeg': 'W'}}, {'marketing': 'B6', 'marketingFlightNumber': 2220, 'operating': 'B6', 'operatingFlightNumber': 2220, 'equipment': {'code': '32Q', 'typeForFirstLeg': 'N', 'typeForLastLeg': 'N'}}, {'marketing': 'B6', 'marketingFlightNumber': 2417, 'operating': 'B6', 'operatingFlightNumber': 2417, 'equipment': {'code': '320', 'typeForFirstLeg': 'N', 'typeForLastLeg': 'N'}}, {'marketing': 'BA', 'marketingFlightNumber': 178, 'operating': 'BA', 'operatingFlightNumber': 178, 'alliances': 'OW ', 'equipment': {'code': '777', 'typeForFirstLeg': 'W', 'typeForLastLeg': 'W'}}, {'marketing': 'KL', 'marketingFlightNumber': 2501, 'operating': 'VS', 'operatingFlightNumber': 4, 'disclosure': 'VS', 'equipment': {'code': '339', 'typeForFirstLeg': 'W', 'typeForLastLeg': 'W'}}, {'marketing': 'AF', 'marketingFlightNumber': 6753, 'operating': 'VS', 'operatingFlightNumber': 4, 'disclosure': 'VS', 'alliances': '*S ', 'equipment': {'code': '339', 'typeForFirstLeg': 'W', 'typeForLastLeg': 'W'}}, {'marketing': 'VS', 'marketingFlightNumber': 4, 'operating': 'VS', 'operatingFlightNumber': 4, 'equipment': {'code': '339', 'typeForFirstLeg': 'W', 'typeForLastLeg': 'W'}}, {'marketing': 'VS', 'marketingFlightNumber': 10, 'operating': 'VS', 'operatingFlightNumber': 10, 'equipment': {'code': '351', 'typeForFirstLeg': 'W', 'typeForLastLeg': 'W'}}, {'marketing': 'BA', 'marketingFlightNumber': 113, 'operating': 'BA', 'operatingFlightNumber': 113, 'alliances': 'OW ', 'equipment': {'code': '781', 'typeForFirstLeg': 'W', 'typeForLastLeg': 'W'}}, {'marketing': 'B6', 'marketingFlightNumber': 1118, 'operating': 'B6', 'operatingFlightNumber': 1118, 'equipment': {'code': 'E90', 'typeForFirstLeg': 'N', 'typeForLastLeg': 'N'}}, {'marketing': 'BA', 'marketingFlightNumber': 116, 'operating': 'BA', 'operatingFlightNumber': 116, 'alliances': 'OW ', 'equipment': {'code': '77W', 'typeForFirstLeg': 'W', 'typeForLastLeg': 'W'}}, {'marketing': 'BA', 'marketingFlightNumber': 172, 'operating': 'BA', 'operatingFlightNumber': 172, 'alliances': 'OW ', 'equipment': {'code': '777', 'typeForFirstLeg': 'W', 'typeForLastLeg': 'W'}}, {'marketing': 'BA', 'marketingFlightNumber': 177, 'operating': 'BA', 'operatingFlightNumber': 177, 'alliances': 'OW ', 'equipment': {'code': '777', 'typeForFirstLeg': 'W', 'typeForLastLeg': 'W'}}, {'marketing': 'BA', 'marketingFlightNumber': 114, 'operating': 'BA', 'operatingFlightNumber': 114, 'alliances': 'OW ', 'equipment': {'code': '781', 'typeForFirstLeg': 'W', 'typeForLastLeg': 'W'}}, {'marketing': 'KL', 'marketingFlightNumber': 2504, 'operating': 'VS', 'operatingFlightNumber': 9, 'disclosure': 'VS', 'equipment': {'code': '351', 'typeForFirstLeg': 'W', 'typeForLastLeg': 'W'}}, {'marketing': 'DL', 'marketingFlightNumber': 5991, 'operating': 'VS', 'operatingFlightNumber': 25, 'disclosure': 'VS', 'equipment': {'code': '789', 'typeForFirstLeg': 'W', 'typeForLastLeg': 'W'}}, {'marketing': 'B6', 'marketingFlightNumber': 2017, 'operating': 'B6', 'operatingFlightNumber': 2017, 'equipment': {'code': 'E90', 'typeForFirstLeg': 'N', 'typeForLastLeg': 'N'}}, {'marketing': 'B6', 'marketingFlightNumber': 2104, 'operating': 'B6', 'operatingFlightNumber': 2104, 'equipment': {'code': '32Q', 'typeForFirstLeg': 'N', 'typeForLastLeg': 'N'}}, {'marketing': 'AF', 'marketingFlightNumber': 3662, 'operating': 'DL', 'operatingFlightNumber': 3, 'disclosure': 'DL', 'alliances': '*S ', 'equipment': {'code': '764', 'typeForFirstLeg': 'W', 'typeForLastLeg': 'W'}}, {'marketing': 'DL', 'marketingFlightNumber': 4, 'operating': 'DL', 'operatingFlightNumber': 4, 'equipment': {'code': '764', 'typeForFirstLeg': 'W', 'typeForLastLeg': 'W'}}, {'marketing': 'KL', 'marketingFlightNumber': 2511, 'operating': 'VS', 'operatingFlightNumber': 154, 'disclosure': 'VS', 'equipment': {'code': '339', 'typeForFirstLeg': 'W', 'typeForLastLeg': 'W'}}, {'marketing': 'AF', 'marketingFlightNumber': 6759, 'operating': 'VS', 'operatingFlightNumber': 10, 'disclosure': 'VS', 'alliances': '*S ', 'equipment': {'code': '351', 'typeForFirstLeg': 'W', 'typeForLastLeg': 'W'}}, {'marketing': 'B6', 'marketingFlightNumber': 318, 'operating': 'B6', 'operatingFlightNumber': 318, 'equipment': {'code': 'E90', 'typeForFirstLeg': 'N', 'typeForLastLeg': 'N'}}, {'marketing': 'AA', 'marketingFlightNumber': 100, 'operating': 'AA', 'operatingFlightNumber': 100, 'alliances': 'OW ', 'equipment': {'code': '77W', 'typeForFirstLeg': 'W', 'typeForLastLeg': 'W'}}, {'marketing': 'AF', 'marketingFlightNumber': 3600, 'operating': 'DL', 'operatingFlightNumber': 4, 'disclosure': 'DL', 'alliances': '*S ', 'equipment': {'code': '764', 'typeForFirstLeg': 'W', 'typeForLastLeg': 'W'}}, {'marketing': 'AA', 'marketingFlightNumber': 142, 'operating': 'AA', 'operatingFlightNumber': 142, 'alliances': 'OW ', 'equipment': {'code': '772', 'typeForFirstLeg': 'W', 'typeForLastLeg': 'W'}}, {'marketing': 'KL', 'marketingFlightNumber': 2503, 'operating': 'VS', 'operatingFlightNumber': 10, 'disclosure': 'VS', 'equipment': {'code': '351', 'typeForFirstLeg': 'W', 'typeForLastLeg': 'W'}}, {'marketing': 'DL', 'marketingFlightNumber': 5996, 'operating': 'VS', 'operatingFlightNumber': 26, 'disclosure': 'VS', 'equipment': {'code': '789', 'typeForFirstLeg': 'W', 'typeForLastLeg': 'W'}}, {'marketing': 'AA', 'marketingFlightNumber': 104, 'operating': 'AA', 'operatingFlightNumber': 104, 'alliances': 'OW ', 'equipment': {'code': '77W', 'typeForFirstLeg': 'W', 'typeForLastLeg': 'W'}}, {'marketing': 'KL', 'marketingFlightNumber': 2507, 'operating': 'VS', 'operatingFlightNumber': 46, 'disclosure': 'VS', 'equipment': {'code': '351', 'typeForFirstLeg': 'W', 'typeForLastLeg': 'W'}}, {'marketing': 'BA', 'marketingFlightNumber': 183, 'operating': 'BA', 'operatingFlightNumber': 183, 'alliances': 'OW ', 'equipment': {'code': '777', 'typeForFirstLeg': 'W', 'typeForLastLeg': 'W'}}, {'marketing': 'KL', 'marketingFlightNumber': 2505, 'operating': 'VS', 'operatingFlightNumber': 26, 'disclosure': 'VS', 'equipment': {'code': '789', 'typeForFirstLeg': 'W', 'typeForLastLeg': 'W'}}, {'marketing': 'AA', 'marketingFlightNumber': 141, 'operating': 'AA', 'operatingFlightNumber': 141, 'alliances': 'OW ', 'equipment': {'code': '772', 'typeForFirstLeg': 'W', 'typeForLastLeg': 'W'}}, {'marketing': 'BA', 'marketingFlightNumber': 115, 'operating': 'BA', 'operatingFlightNumber': 115, 'alliances': 'OW ', 'equipment': {'code': '777', 'typeForFirstLeg': 'W', 'typeForLastLeg': 'W'}}, {'marketing': 'DL', 'marketingFlightNumber': 5994, 'operating': 'VS', 'operatingFlightNumber': 4, 'disclosure': 'VS', 'equipment': {'code': '339', 'typeForFirstLeg': 'W', 'typeForLastLeg': 'W'}}, {'marketing': 'VS', 'marketingFlightNumber': 26, 'operating': 'VS', 'operatingFlightNumber': 26, 'equipment': {'code': '789', 'typeForFirstLeg': 'W', 'typeForLastLeg': 'W'}}, {'marketing': 'BA', 'marketingFlightNumber': 175, 'operating': 'BA', 'operatingFlightNumber': 175, 'alliances': 'OW ', 'equipment': {'code': '77W', 'typeForFirstLeg': 'W', 'typeForLastLeg': 'W'}}, {'marketing': 'VS', 'marketingFlightNumber': 9, 'operating': 'VS', 'operatingFlightNumber': 9, 'equipment': {'code': '351', 'typeForFirstLeg': 'W', 'typeForLastLeg': 'W'}}, {'marketing': 'DL', 'marketingFlightNumber': 5993, 'operating': 'VS', 'operatingFlightNumber': 9, 'disclosure': 'VS', 'equipment': {'code': '351', 'typeForFirstLeg': 'W', 'typeForLastLeg': 'W'}}, {'marketing': 'VS', 'marketingFlightNumber': 4029, 'operating': 'DL', 'operatingFlightNumber': 4, 'disclosure': 'DL', 'equipment': {'code': '764', 'typeForFirstLeg': 'W', 'typeForLastLeg': 'W'}}, {'marketing': 'B6', 'marketingFlightNumber': 1621, 'operating': 'B6', 'operatingFlightNumber': 1621, 'equipment': {'code': '32Q', 'typeForFirstLeg': 'N', 'typeForLastLeg': 'N'}}, {'marketing': 'B6', 'marketingFlightNumber': 2818, 'operating': 'B6', 'operatingFlightNumber': 2818, 'equipment': {'code': 'E90', 'typeForFirstLeg': 'N', 'typeForLastLeg': 'N'}}, {'marketing': 'B6', 'marketingFlightNumber': 1926, 'operating': 'B6', 'operatingFlightNumber': 1926, 'equipment': {'code': '32Q', 'typeForFirstLeg': 'N', 'typeForLastLeg': 'N'}}, {'marketing': 'AA', 'marketingFlightNumber': 106, 'operating': 'AA', 'operatingFlightNumber': 106, 'alliances': 'OW ', 'equipment': {'code': '77W', 'typeForFirstLeg': 'W', 'typeForLastLeg': 'W'}}, {'marketing': 'DL', 'marketingFlightNumber': 3, 'operating': 'DL', 'operatingFlightNumber': 3, 'equipment': {'code': '764', 'typeForFirstLeg': 'W', 'typeForLastLeg': 'W'}}, {'marketing': 'VS', 'marketingFlightNumber': 46, 'operating': 'VS', 'operatingFlightNumber': 46, 'equipment': {'code': '351', 'typeForFirstLeg': 'W', 'typeForLastLeg': 'W'}}, {'marketing': 'BA', 'marketingFlightNumber': 2273, 'operating': 'BA', 'operatingFlightNumber': 2273, 'alliances': 'OW ', 'equipment': {'code': '777', 'typeForFirstLeg': 'W', 'typeForLastLeg': 'W'}}, {'marketing': 'KL', 'marketingFlightNumber': 2509, 'operating': 'VS', 'operatingFlightNumber': 138, 'disclosure': 'VS', 'equipment': {'code': '351', 'typeForFirstLeg': 'W', 'typeForLastLeg': 'W'}}, {'marketing': 'BA', 'marketingFlightNumber': 182, 'operating': 'BA', 'operatingFlightNumber': 182, 'alliances': 'OW ', 'equipment': {'code': '77W', 'typeForFirstLeg': 'W', 'typeForLastLeg': 'W'}}, {'marketing': 'AF', 'marketingFlightNumber': 9924, 'operating': 'VS', 'operatingFlightNumber': 154, 'disclosure': 'VS', 'alliances': '*S ', 'equipment': {'code': '339', 'typeForFirstLeg': 'W', 'typeForLastLeg': 'W'}}]\n",
      "***********************END CARRIEERS    ****************\n",
      "***********************START MESSAGES ****************\n",
      "[{'severity': 'Info', 'type': 'SERVER', 'code': 'GCC16-ISELL-TN-00-2023-11-00-VWB0', 'text': '27131'}, {'severity': 'Info', 'type': 'WORKERTHREAD', 'code': 'TRANSACTIONID', 'text': '6917573265324234575'}, {'severity': 'Info', 'type': 'DRE', 'code': 'RULEID', 'text': '15936'}, {'severity': 'Info', 'type': 'DEFAULT', 'code': 'RULEID', 'text': '23704'}]\n",
      "***********************END MESSAGES     ****************\n",
      "***********************VERSION ****************\n",
      "6.8.1\n"
     ]
    }
   ],
   "source": [
    "import json\n",
    "import fnc\n",
    "\n",
    "class ItineraryProcessor:\n",
    "    def __init__(self, file_path):\n",
    "        with open(file_path, 'r') as file:\n",
    "            self.data = json.load(file)\n",
    "\n",
    "\n",
    "    def get_messages(self):\n",
    "        grouped_response = self.data.get('groupedItineraryResponse', {})\n",
    "        messages = grouped_response.get('messages', [])\n",
    "        return fnc.get('messages', grouped_response, default=[])\n",
    "\n",
    "    def get_version(self):\n",
    "        return fnc.get('groupedItineraryResponse.version', self.data, default=None)\n",
    "\n",
    "    def get_schedules(self):\n",
    "        return self.data['groupedItineraryResponse'].get('scheduleDescs', [])\n",
    "\n",
    "    def get_departures(self):\n",
    "        schedules = self.get_schedules()\n",
    "        mapped_departures = fnc.map(lambda schedule: schedule['departure'], schedules)\n",
    "        return list(mapped_departures)\n",
    "\n",
    "    def get_carrier(self):\n",
    "        schedules = self.get_schedules()\n",
    "        mapped_carrier = fnc.map(lambda schedule: schedule['carrier'], schedules)\n",
    "        return list(mapped_carrier)\n",
    "  \n",
    "\n",
    "json_file_path = './search_rep.json'\n",
    "\n",
    "\n",
    "processor = ItineraryProcessor(json_file_path)\n",
    "\n",
    "\n",
    "version = processor.get_version()\n",
    "departures = processor.get_departures()\n",
    "cariers = processor.get_carrier()\n",
    "messages = processor.get_messages()\n",
    "\n",
    "\n",
    "print(\"***********************START DEPARTURE ****************\")\n",
    "print(departures)\n",
    "print(\"***********************END DEPARTURE ****************\")\n",
    "\n",
    "print(\"***********************START CARRIEERS ****************\")\n",
    "print(cariers)\n",
    "print(\"***********************END CARRIEERS    ****************\")\n",
    "\n",
    "print(\"***********************START MESSAGES ****************\")\n",
    "print(messages)\n",
    "print(\"***********************END MESSAGES     ****************\")\n",
    "print(\"***********************VERSION ****************\")\n",
    "print(version)\n",
    "\n",
    "\n"
   ]
  },
  {
   "cell_type": "code",
   "execution_count": 32,
   "id": "fd5e8dba-ea0d-414d-b959-fb64243dd7bc",
   "metadata": {},
   "outputs": [
    {
     "name": "stdout",
     "output_type": "stream",
     "text": [
      " Nom voiture Renault - modele 50 - couleur rouge\n",
      "None\n"
     ]
    },
    {
     "ename": "TypeError",
     "evalue": "VoitureChild.__init__() takes 5 positional arguments but 6 were given",
     "output_type": "error",
     "traceback": [
      "\u001b[0;31m---------------------------------------------------------------------------\u001b[0m",
      "\u001b[0;31mTypeError\u001b[0m                                 Traceback (most recent call last)",
      "Cell \u001b[0;32mIn[32], line 22\u001b[0m\n\u001b[1;32m     20\u001b[0m v \u001b[38;5;241m=\u001b[39m Voiture(\u001b[38;5;124m\"\u001b[39m\u001b[38;5;124mRenault\u001b[39m\u001b[38;5;124m\"\u001b[39m, \u001b[38;5;241m50\u001b[39m, \u001b[38;5;124m\"\u001b[39m\u001b[38;5;124mrouge\u001b[39m\u001b[38;5;124m\"\u001b[39m)\n\u001b[1;32m     21\u001b[0m \u001b[38;5;28mprint\u001b[39m(v\u001b[38;5;241m.\u001b[39mdetail_voiture())\n\u001b[0;32m---> 22\u001b[0m child \u001b[38;5;241m=\u001b[39m \u001b[43mVoitureChild\u001b[49m\u001b[43m(\u001b[49m\u001b[38;5;124;43m\"\u001b[39;49m\u001b[38;5;124;43mPeageot\u001b[39;49m\u001b[38;5;124;43m\"\u001b[39;49m\u001b[43m,\u001b[49m\u001b[43m \u001b[49m\u001b[38;5;124;43m\"\u001b[39;49m\u001b[38;5;124;43moui\u001b[39;49m\u001b[38;5;124;43m\"\u001b[39;49m\u001b[43m,\u001b[49m\u001b[43m \u001b[49m\u001b[38;5;124;43m'\u001b[39;49m\u001b[38;5;124;43mdddd\u001b[39;49m\u001b[38;5;124;43m'\u001b[39;49m\u001b[43m,\u001b[49m\u001b[43m \u001b[49m\u001b[38;5;124;43m'\u001b[39;49m\u001b[38;5;124;43mmdl\u001b[39;49m\u001b[38;5;124;43m'\u001b[39;49m\u001b[43m,\u001b[49m\u001b[43m \u001b[49m\u001b[38;5;124;43m'\u001b[39;49m\u001b[38;5;124;43mclr\u001b[39;49m\u001b[38;5;124;43m'\u001b[39;49m\u001b[43m)\u001b[49m\n\u001b[1;32m     23\u001b[0m \u001b[38;5;28mprint\u001b[39m(child\u001b[38;5;241m.\u001b[39mdetail_voiture())\n",
      "\u001b[0;31mTypeError\u001b[0m: VoitureChild.__init__() takes 5 positional arguments but 6 were given"
     ]
    }
   ],
   "source": [
    "class Voiture:\n",
    "    def __init__(self, name, modele, couleur):\n",
    "        self.name = name\n",
    "        self.modele = modele\n",
    "        self.couleur = couleur\n",
    "\n",
    "    def detail_voiture(self):\n",
    "        print(f\" Nom voiture {self.name} - modele {self.modele} - couleur {self.couleur}\")\n",
    "class VoitureChild(Voiture):\n",
    "    def __init__(self, nombre_de_place, gazoile, name, modele):\n",
    "        super().__init__(name, modele)\n",
    "        self.name = name\n",
    "        self.nombre_de_place = nombre_de_place\n",
    "        self.gazoile = gazoile\n",
    "\n",
    "    def detail_voiture(self):\n",
    "        detail_child = super().detail_voiture()\n",
    "        print(f\"{detail_child} avec comme nom {self.name} et {self.nombre_de_place} comme de place et il prend du {self.gazoile}\")\n",
    "        \n",
    "v = Voiture(\"Renault\", 50, \"rouge\")\n",
    "print(v.detail_voiture())\n",
    "child = VoitureChild(\"Peageot\", \"oui\", 'dddd', 'mdl', 'clr')\n",
    "print(child.detail_voiture())"
   ]
  },
  {
   "cell_type": "code",
   "execution_count": null,
   "id": "ee880179-fcdd-4725-9771-e99d8ae4b419",
   "metadata": {},
   "outputs": [],
   "source": []
  }
 ],
 "metadata": {
  "kernelspec": {
   "display_name": "Python 3 (ipykernel)",
   "language": "python",
   "name": "python3"
  },
  "language_info": {
   "codemirror_mode": {
    "name": "ipython",
    "version": 3
   },
   "file_extension": ".py",
   "mimetype": "text/x-python",
   "name": "python",
   "nbconvert_exporter": "python",
   "pygments_lexer": "ipython3",
   "version": "3.10.12"
  }
 },
 "nbformat": 4,
 "nbformat_minor": 5
}
